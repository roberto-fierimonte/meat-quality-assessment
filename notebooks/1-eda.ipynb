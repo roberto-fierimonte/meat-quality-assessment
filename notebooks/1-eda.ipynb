{
 "cells": [
  {
   "cell_type": "markdown",
   "metadata": {},
   "source": [
    "# Meat Quality Assessmnt - Data Exploration\n",
    "\n",
    "---\n",
    "\n",
    "We start this project by having a look at the data. \n",
    "\n",
    "Because we dataset is very simple and all the images are photos of the same piece of meat taken from the same angle at regular intervals, we don't expect to employ many advanced image processing techniques. However it is still interesting to come up with some basic characterisation of the images, particularly with respect to their colour distribution between the two classes."
   ]
  },
  {
   "cell_type": "code",
   "execution_count": null,
   "metadata": {},
   "outputs": [],
   "source": [
    "%load_ext autoreload\n",
    "%autoreload 2"
   ]
  },
  {
   "cell_type": "code",
   "execution_count": null,
   "metadata": {},
   "outputs": [],
   "source": [
    "import os\n",
    "import sys\n",
    "import pathlib\n",
    "\n",
    "import numpy as np\n",
    "import matplotlib.pyplot as plt\n",
    "import matplotlib.image as mpimg\n",
    "\n",
    "from loguru import logger\n",
    "\n",
    "# Set parent folder as root to import local modules\n",
    "module_path = os.path.abspath(os.path.join(\"..\"))\n",
    "sys.path.append(module_path)\n",
    "\n",
    "# Remove default logger and set level to INFO\n",
    "logger.remove()\n",
    "logger.add(sys.stderr, level=\"INFO\")"
   ]
  },
  {
   "cell_type": "code",
   "execution_count": null,
   "metadata": {},
   "outputs": [],
   "source": [
    "data_path = pathlib.Path(module_path) / \"data/meat-quality-assessment-based-on-deep-learning\"\n",
    "output_path = pathlib.Path(module_path) / \"notebooks/output\""
   ]
  },
  {
   "cell_type": "code",
   "execution_count": null,
   "metadata": {},
   "outputs": [],
   "source": [
    "def display_images(data_path: os.PathLike, class_name: str, n_samples: int=5, seed: int=456) -> None:\n",
    "    \"\"\"Display a sample of images from one class.\n",
    "\n",
    "    Args:\n",
    "        data_path (os.PathLike): \n",
    "        class_name (str): \n",
    "        n_samples (int, optional):\n",
    "        seed (int, optional):  \n",
    "    \"\"\"\n",
    "    try:\n",
    "        assert(n_samples >= 1)\n",
    "    except AssertionError:\n",
    "        msg = \"\"\n",
    "        raise ValueError(msg)\n",
    "    rng = np.random.default_rng(seed=seed)\n",
    "    samples = rng.choice(\n",
    "        [os.path.join(data_path, f) for f in os.listdir(data_path) if f.endswith(\".jpg\")], \n",
    "        size=n_samples, \n",
    "        replace=False\n",
    "    )\n",
    "    ncols = np.minimum(5, n_samples)\n",
    "    nrows = int(np.ceil(n_samples / ncols))\n",
    "    fig, axs = plt.subplots(nrows=nrows, ncols=ncols, figsize=(ncols * 4, nrows * 2.5))\n",
    "    for e, s in enumerate(samples):\n",
    "        axs.flatten()[e].imshow(mpimg.imread(s))\n",
    "        axs.flatten()[e].set_axis_off()\n",
    "\n",
    "    for j in range(len(samples), nrows * ncols):\n",
    "        axs.flatten()[j].axis(\"off\")\n",
    "    \n",
    "    fig.suptitle(f\"Samples of {class_name.lower()} meat\")\n",
    "    plt.tight_layout()\n",
    "    plt.show()"
   ]
  },
  {
   "cell_type": "code",
   "execution_count": null,
   "metadata": {},
   "outputs": [],
   "source": [
    "display_images(data_path=(data_path / \"Fresh\"), class_name=\"Fresh\", n_samples=15, seed=999)"
   ]
  },
  {
   "cell_type": "code",
   "execution_count": null,
   "metadata": {},
   "outputs": [],
   "source": [
    "display_images(data_path=(data_path / \"Spoiled\"), class_name=\"Spoiled\", n_samples=15, seed=3)"
   ]
  },
  {
   "cell_type": "markdown",
   "metadata": {},
   "source": [
    "From an initial visual inspection, we can already make some observation about the data:\n",
    "\n",
    "- The photos look very similar to each other, this is clearly expected because of the nature of the dataset\n",
    "- The spoiled meat looks darker, although not to a particularly higher extent compared to when the meat was fresh\n",
    "\n",
    "As the next step, we decompose the photos into their Red, Blue, and Green (RGB) channels, to check for any difference in this domain."
   ]
  },
  {
   "cell_type": "code",
   "execution_count": null,
   "metadata": {},
   "outputs": [],
   "source": [
    "def display_rgb_images(data_path: os.PathLike, class_name: str, n_samples: int=5, seed: int=456) -> None:\n",
    "    \"\"\"Display a sample of images from one class decomposing them into their RGB components.\n",
    "\n",
    "    Args:\n",
    "        data_path (os.PathLike): \n",
    "        class_name (str): \n",
    "        n_samples (int, optional):\n",
    "        seed (int, optional):  \n",
    "    \"\"\"\n",
    "    try:\n",
    "        assert(n_samples >= 1)\n",
    "    except AssertionError:\n",
    "        msg = \"\"\n",
    "        raise ValueError(msg)\n",
    "    rng = np.random.default_rng(seed=seed)\n",
    "    samples = rng.choice(\n",
    "        [os.path.join(data_path, f) for f in os.listdir(data_path) if f.endswith(\".jpg\")], \n",
    "        size=n_samples, \n",
    "        replace=False\n",
    "    )\n",
    "    ncols = 4\n",
    "    nrows = n_samples\n",
    "    fig, axs = plt.subplots(nrows=nrows, ncols=ncols, figsize=(ncols * 4, nrows * 2.5), sharex=True, sharey=True)\n",
    "    for e, s in enumerate(samples):\n",
    "        sample = mpimg.imread(s) \n",
    "        axs[e][0].imshow(sample)\n",
    "        axs[e][1].imshow(sample[:, :, 0])\n",
    "        axs[e][1].set_xlabel(f\"Mean R value: {np.mean(sample[:, :, 0])}\")\n",
    "        axs[e][2].imshow(sample[:, :, 1])\n",
    "        axs[e][2].set_xlabel(f\"Mean G value: {np.mean(sample[:, :, 1])}\") \n",
    "        axs[e][3].imshow(sample[:, :, 2])\n",
    "        axs[e][3].set_xlabel(f\"Mean B value: {np.mean(sample[:, :, 2])}\")\n",
    "\n",
    "    axs[0][0].set_title(\"Original Image\")\n",
    "    axs[0][1].set_title(\"R Channel\")\n",
    "    axs[0][2].set_title(\"G Channel\") \n",
    "    axs[0][3].set_title(\"B Channel\")\n",
    "\n",
    "    for a in axs.flatten():\n",
    "        a.set_axis_off()\n",
    "    \n",
    "    fig.suptitle(f\"Samples of {class_name.lower()} meat in RGB\")\n",
    "    plt.tight_layout()\n",
    "    plt.show()"
   ]
  },
  {
   "cell_type": "code",
   "execution_count": null,
   "metadata": {},
   "outputs": [],
   "source": [
    "display_rgb_images(data_path=(data_path / \"Fresh\"), class_name=\"Fresh\", n_samples=5, seed=12)"
   ]
  },
  {
   "cell_type": "code",
   "execution_count": null,
   "metadata": {},
   "outputs": [],
   "source": [
    "display_rgb_images(data_path=(data_path / \"Spoiled\"), class_name=\"Spoiled\", n_samples=5, seed=1293)"
   ]
  },
  {
   "cell_type": "code",
   "execution_count": null,
   "metadata": {},
   "outputs": [],
   "source": []
  }
 ],
 "metadata": {
  "kernelspec": {
   "display_name": "Python 3.9.7 ('meat-quality-assessment-m4CLWqOE-py3.9')",
   "language": "python",
   "name": "python3"
  },
  "language_info": {
   "codemirror_mode": {
    "name": "ipython",
    "version": 3
   },
   "file_extension": ".py",
   "mimetype": "text/x-python",
   "name": "python",
   "nbconvert_exporter": "python",
   "pygments_lexer": "ipython3",
   "version": "3.9.7"
  },
  "vscode": {
   "interpreter": {
    "hash": "cd17a26abef4eb4c850ff5b519a824c392533d39a236404cf53d52af12209a12"
   }
  }
 },
 "nbformat": 4,
 "nbformat_minor": 2
}
