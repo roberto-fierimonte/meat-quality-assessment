{
 "cells": [
  {
   "cell_type": "markdown",
   "metadata": {},
   "source": [
    "# Meat Quality Assessment - Data Exploration\n",
    "\n",
    "---\n",
    "\n",
    "## Visual Exploration\n",
    "\n",
    "We start this project by having a look at the data. \n",
    "\n",
    "Because we dataset is very simple and all the images are photos of the same piece of meat taken from the same angle at regular intervals, we don't expect to employ many advanced image processing techniques. However it is still interesting to come up with some basic characterisation of the images, particularly with respect to their colour distribution between the two classes."
   ]
  },
  {
   "cell_type": "code",
   "execution_count": null,
   "metadata": {},
   "outputs": [],
   "source": [
    "%load_ext autoreload\n",
    "%autoreload 2"
   ]
  },
  {
   "cell_type": "code",
   "execution_count": null,
   "metadata": {},
   "outputs": [],
   "source": [
    "import os\n",
    "import sys\n",
    "\n",
    "from loguru import logger\n",
    "\n",
    "# Set parent folder as root to import local modules\n",
    "module_path = os.path.abspath(os.path.join(\"..\"))\n",
    "sys.path.append(module_path)\n",
    "\n",
    "# Remove default logger and set level to INFO\n",
    "logger.remove()\n",
    "logger.add(sys.stderr, level=\"INFO\")\n",
    "\n",
    "from src.base.analysis import display_images, display_rgb_images, rgb_stats_by_label\n",
    "from src.base.pipelines import images_to_frame"
   ]
  },
  {
   "cell_type": "code",
   "execution_count": null,
   "metadata": {},
   "outputs": [],
   "source": [
    "data_path = os.path.join(module_path, \"data/meat-quality-assessment-based-on-deep-learning/\")\n",
    "output_path = os.path.join(module_path, \"notebooks/output/eda\")\n",
    "os.makedirs(output_path, exist_ok=True)"
   ]
  },
  {
   "cell_type": "code",
   "execution_count": null,
   "metadata": {},
   "outputs": [],
   "source": [
    "display_images(data_path=data_path, seed=300, save_path=output_path)"
   ]
  },
  {
   "cell_type": "markdown",
   "metadata": {},
   "source": [
    "From an initial visual inspection, we can already make some observation about the data:\n",
    "\n",
    "- The photos look very similar to each other, this is clearly expected because of the nature of the dataset\n",
    "- The spoiled meat looks darker, although not to a particularly higher extent compared to when the meat was fresh\n",
    "\n",
    "### RGB Analysis\n",
    "\n",
    "As the next step, we decompose the photos into their Red, Blue, and Green (RGB) channels, to check for any difference in this domain."
   ]
  },
  {
   "cell_type": "code",
   "execution_count": null,
   "metadata": {},
   "outputs": [],
   "source": [
    "display_rgb_images(data_path=data_path, seed=12, save_path=output_path)"
   ]
  },
  {
   "cell_type": "markdown",
   "metadata": {},
   "source": [
    "We can observe how the spoiled samples have a slightly RGB distribution compared to the fresh samples. Their colour tone is more shifted toward the Green and Blue than to the Red. This gives us some better insights.\n",
    "\n",
    "Let's finish this piece of analysis by plotting the colour statistics aggregated by label."
   ]
  },
  {
   "cell_type": "code",
   "execution_count": null,
   "metadata": {},
   "outputs": [],
   "source": [
    "rgb_stats_by_label(data_path=data_path, save_path=output_path)"
   ]
  },
  {
   "cell_type": "markdown",
   "metadata": {},
   "source": [
    "As expected, the aggregated statistics show a similar behaviour, with the spoiled examples having a larger proportion of pixels with high Green and Blue intensity.\n",
    "\n",
    "## Label Distribution\n",
    "\n",
    "We conclude this analysis by understanding the distribution of the labels in the dataset."
   ]
  },
  {
   "cell_type": "code",
   "execution_count": null,
   "metadata": {},
   "outputs": [],
   "source": [
    "img_df = images_to_frame(data_path=data_path)\n",
    "img_df"
   ]
  },
  {
   "cell_type": "code",
   "execution_count": null,
   "metadata": {},
   "outputs": [],
   "source": [
    "img_df.groupby('label').agg({'image_path': 'nunique'}).reset_index().rename(columns={'image_path': 'n_images'})"
   ]
  },
  {
   "cell_type": "markdown",
   "metadata": {},
   "source": [
    "The dataset is perfectly balanced with respect to the labels."
   ]
  }
 ],
 "metadata": {
  "kernelspec": {
   "display_name": "Python 3.9.7 ('meat-quality-assessment-m4CLWqOE-py3.9')",
   "language": "python",
   "name": "python3"
  },
  "language_info": {
   "codemirror_mode": {
    "name": "ipython",
    "version": 3
   },
   "file_extension": ".py",
   "mimetype": "text/x-python",
   "name": "python",
   "nbconvert_exporter": "python",
   "pygments_lexer": "ipython3",
   "version": "3.9.7"
  },
  "vscode": {
   "interpreter": {
    "hash": "cd17a26abef4eb4c850ff5b519a824c392533d39a236404cf53d52af12209a12"
   }
  }
 },
 "nbformat": 4,
 "nbformat_minor": 2
}
