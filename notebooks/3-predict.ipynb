{
 "cells": [
  {
   "cell_type": "code",
   "execution_count": null,
   "metadata": {},
   "outputs": [],
   "source": []
  }
 ],
 "metadata": {
  "kernelspec": {
   "display_name": "Python 3.9.7 ('meat-quality-assessment-m4CLWqOE-py3.9')",
   "language": "python",
   "name": "python3"
  },
  "language_info": {
   "name": "python",
   "version": "3.9.7"
  },
  "orig_nbformat": 4,
  "vscode": {
   "interpreter": {
    "hash": "cd17a26abef4eb4c850ff5b519a824c392533d39a236404cf53d52af12209a12"
   }
  }
 },
 "nbformat": 4,
 "nbformat_minor": 2
}
